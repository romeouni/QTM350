{
 "cells": [
  {
   "cell_type": "code",
   "execution_count": 1,
   "metadata": {},
   "outputs": [],
   "source": [
    "%%bash\n",
    "cd ~/github\n",
    "mkdir data_project"
   ]
  },
  {
   "cell_type": "code",
   "execution_count": 6,
   "metadata": {},
   "outputs": [
    {
     "name": "stdout",
     "output_type": "stream",
     "text": [
      "Initialized empty Git repository in /Users/rahululman/github/data_project/.git/\n"
     ]
    }
   ],
   "source": [
    "%%bash\n",
    "cd ~/github/data_project\n",
    "\n",
    "git init"
   ]
  },
  {
   "cell_type": "code",
   "execution_count": 2,
   "metadata": {},
   "outputs": [],
   "source": [
    "%%bash\n",
    "touch data_cleaning.py data_analysis.py visualization.py\n",
    "\n",
    "git add ."
   ]
  },
  {
   "cell_type": "code",
   "execution_count": null,
   "metadata": {},
   "outputs": [
    {
     "name": "stdout",
     "output_type": "stream",
     "text": [
      "[main (root-commit) 6944d86] Initial commit with data processing scripts\n",
      " 4 files changed, 89 insertions(+)\n",
      " create mode 100644 data_analysis.py\n",
      " create mode 100644 data_cleaning.py\n",
      " create mode 100644 hw3.ipynb\n",
      " create mode 100644 visualization.py\n"
     ]
    }
   ],
   "source": [
    "%%bash\n",
    "git commit -m \"Initial commit with data processing scripts\""
   ]
  },
  {
   "cell_type": "code",
   "execution_count": 1,
   "metadata": {},
   "outputs": [
    {
     "name": "stdout",
     "output_type": "stream",
     "text": [
      "commit 6944d86d5c722f31292e7eb481bc6830ab5bbc50\n",
      "Author: romeouni <rahul.ulman@gmail.com>\n",
      "Date:   Mon Feb 10 21:32:36 2025 -0500\n",
      "\n",
      "    Initial commit with data processing scripts\n"
     ]
    }
   ],
   "source": [
    "%%bash\n",
    "git log"
   ]
  },
  {
   "cell_type": "code",
   "execution_count": 2,
   "metadata": {},
   "outputs": [
    {
     "name": "stdout",
     "output_type": "stream",
     "text": [
      "[main 3d33fd1] Add clean_data function to data_cleaning.py\n",
      " 2 files changed, 50 insertions(+), 17 deletions(-)\n"
     ]
    }
   ],
   "source": [
    "%%bash\n",
    "git add .\n",
    "git commit -m \"Add clean_data function to data_cleaning.py\""
   ]
  },
  {
   "cell_type": "code",
   "execution_count": 3,
   "metadata": {},
   "outputs": [
    {
     "name": "stderr",
     "output_type": "stream",
     "text": [
      "Switched to branch 'feature-exploration'\n"
     ]
    }
   ],
   "source": [
    "%%bash\n",
    "git branch feature-exploration\n",
    "git checkout feature-exploration"
   ]
  },
  {
   "cell_type": "code",
   "execution_count": 4,
   "metadata": {},
   "outputs": [
    {
     "name": "stdout",
     "output_type": "stream",
     "text": [
      "[feature-exploration 45509e2] Add exploratory_analysis.py for initial data exploration\n",
      " 1 file changed, 0 insertions(+), 0 deletions(-)\n",
      " create mode 100644 exploratory_analysis.py\n"
     ]
    }
   ],
   "source": [
    "%%bash\n",
    "touch exploratory_analysis.py\n",
    "git add .\n",
    "git commit -m \"Add exploratory_analysis.py for initial data exploration\""
   ]
  },
  {
   "cell_type": "code",
   "execution_count": 5,
   "metadata": {},
   "outputs": [
    {
     "name": "stderr",
     "output_type": "stream",
     "text": [
      "Switched to branch 'main'\n"
     ]
    }
   ],
   "source": [
    "%%bash\n",
    "git checkout main\n"
   ]
  },
  {
   "cell_type": "code",
   "execution_count": 7,
   "metadata": {},
   "outputs": [
    {
     "name": "stdout",
     "output_type": "stream",
     "text": [
      "Updating 3d33fd1..45509e2\n",
      "Fast-forward\n",
      " exploratory_analysis.py | 0\n",
      " 1 file changed, 0 insertions(+), 0 deletions(-)\n",
      " create mode 100644 exploratory_analysis.py\n"
     ]
    }
   ],
   "source": [
    "%%bash\n",
    "git merge feature-exploration\n"
   ]
  },
  {
   "cell_type": "code",
   "execution_count": 10,
   "metadata": {},
   "outputs": [
    {
     "name": "stderr",
     "output_type": "stream",
     "text": [
      "To https://github.com/romeouni/data_project.git\n",
      " * [new branch]      main -> main\n"
     ]
    },
    {
     "name": "stdout",
     "output_type": "stream",
     "text": [
      "branch 'main' set up to track 'origin/main'.\n",
      "  feature-exploration\n",
      "* main\n",
      "  remotes/origin/main\n"
     ]
    }
   ],
   "source": [
    "%%bash\n",
    "git remote add origin https://github.com/romeouni/data_project.git\n",
    "git branch -M main\n",
    "git push -u origin main\n",
    "\n",
    "git branch -a"
   ]
  }
 ],
 "metadata": {
  "kernelspec": {
   "display_name": "base",
   "language": "python",
   "name": "python3"
  },
  "language_info": {
   "codemirror_mode": {
    "name": "ipython",
    "version": 3
   },
   "file_extension": ".py",
   "mimetype": "text/x-python",
   "name": "python",
   "nbconvert_exporter": "python",
   "pygments_lexer": "ipython3",
   "version": "3.10.9"
  }
 },
 "nbformat": 4,
 "nbformat_minor": 2
}

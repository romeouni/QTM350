{
 "cells": [
  {
   "cell_type": "code",
   "execution_count": null,
   "metadata": {},
   "outputs": [],
   "source": [
    "%%bash\n",
    "#already run in command line, rest of commands run in this notebook\n",
    "# cd ~/github/qtm350-quiz01\n",
    "# touch commands.ipynb\n"
   ]
  },
  {
   "cell_type": "code",
   "execution_count": 3,
   "metadata": {},
   "outputs": [
    {
     "name": "stderr",
     "output_type": "stream",
     "text": [
      "Switched to branch 'feature-update'\n"
     ]
    }
   ],
   "source": [
    "%%bash\n",
    "git branch feature-update\n",
    "git checkout feature-update"
   ]
  },
  {
   "cell_type": "code",
   "execution_count": 4,
   "metadata": {},
   "outputs": [],
   "source": [
    "%%bash\n",
    "mkdir reports\n",
    "cd ./reports\n"
   ]
  },
  {
   "cell_type": "code",
   "execution_count": 5,
   "metadata": {},
   "outputs": [],
   "source": [
    "%%bash\n",
    "touch summary.md"
   ]
  },
  {
   "cell_type": "code",
   "execution_count": 6,
   "metadata": {},
   "outputs": [],
   "source": [
    "%%bash\n",
    "echo \"This document provides a summary of the project updates.\" >> summary.md"
   ]
  },
  {
   "cell_type": "code",
   "execution_count": 7,
   "metadata": {},
   "outputs": [],
   "source": [
    "%%bash\n",
    "git add ."
   ]
  },
  {
   "cell_type": "code",
   "execution_count": 11,
   "metadata": {},
   "outputs": [
    {
     "name": "stdout",
     "output_type": "stream",
     "text": [
      "[feature-update 222337a] Add reports directory\n",
      " 2 files changed, 19 insertions(+)\n",
      " create mode 100644 commands.ipynb\n",
      " create mode 100644 summary.md\n"
     ]
    }
   ],
   "source": [
    "%%bash\n",
    "git commit -m \"Add reports directory\""
   ]
  },
  {
   "cell_type": "code",
   "execution_count": 14,
   "metadata": {},
   "outputs": [],
   "source": [
    "%%bash\n",
    "touch ./reports/file{1..3}.txt"
   ]
  },
  {
   "cell_type": "code",
   "execution_count": 21,
   "metadata": {},
   "outputs": [],
   "source": [
    "%%bash\n",
    "#cd ..\n",
    "mv data/raw-data.csv data/input-data.csv"
   ]
  },
  {
   "cell_type": "code",
   "execution_count": 22,
   "metadata": {},
   "outputs": [],
   "source": [
    "%%bash\n",
    "mkdir scripts/backup && cp scripts/*.py scripts/backup/"
   ]
  },
  {
   "cell_type": "code",
   "execution_count": 23,
   "metadata": {},
   "outputs": [],
   "source": [
    "%%bash\n",
    "rm docs/documentation.md"
   ]
  },
  {
   "cell_type": "code",
   "execution_count": 25,
   "metadata": {},
   "outputs": [
    {
     "name": "stdout",
     "output_type": "stream",
     "text": [
      "[feature-update 50ebcb7] Update project files\n",
      " 11 files changed, 1 deletion(-)\n",
      " create mode 100644 .DS_Store\n",
      " create mode 100644 data/.DS_Store\n",
      " rename data/{raw-data.csv => input-data.csv} (100%)\n",
      " delete mode 100644 docs/documentation.md\n",
      " create mode 100644 reports/.DS_Store\n",
      " create mode 100644 reports/file1.txt\n",
      " create mode 100644 reports/file2.txt\n",
      " create mode 100644 reports/file3.txt\n",
      " create mode 100644 scripts/backup/01-setup.py\n",
      " create mode 100644 scripts/backup/02-data-cleaning.py\n",
      " create mode 100644 scripts/backup/03-data-modelling.py\n"
     ]
    }
   ],
   "source": [
    "%%bash\n",
    "git add .\n",
    "git commit -m \"Update project files\""
   ]
  },
  {
   "cell_type": "code",
   "execution_count": 26,
   "metadata": {},
   "outputs": [],
   "source": [
    "%%bash\n",
    "touch .gitignore"
   ]
  },
  {
   "cell_type": "code",
   "execution_count": 37,
   "metadata": {},
   "outputs": [],
   "source": [
    "%%bash\n",
    "echo -e \"temp/\\ndataset0?.csv\" >> .gitignore"
   ]
  },
  {
   "cell_type": "code",
   "execution_count": 38,
   "metadata": {},
   "outputs": [
    {
     "name": "stdout",
     "output_type": "stream",
     "text": [
      "temp/\n",
      "dataset0?.csv\n"
     ]
    }
   ],
   "source": [
    "%%bash\n",
    "cat .gitignore"
   ]
  },
  {
   "cell_type": "code",
   "execution_count": 39,
   "metadata": {},
   "outputs": [
    {
     "name": "stdout",
     "output_type": "stream",
     "text": [
      "[feature-update 547c9b3] Add .gitignore file\n",
      " 4 files changed, 4 insertions(+)\n",
      " create mode 100644 .gitignore\n",
      " create mode 100644 gitignore\n",
      " create mode 100644 scripts/.DS_Store\n"
     ]
    }
   ],
   "source": [
    "%%bash\n",
    "git add . && git commit -m \"Add .gitignore file\""
   ]
  },
  {
   "cell_type": "code",
   "execution_count": 40,
   "metadata": {},
   "outputs": [
    {
     "name": "stderr",
     "output_type": "stream",
     "text": [
      "Switched to branch 'main'\n"
     ]
    },
    {
     "name": "stdout",
     "output_type": "stream",
     "text": [
      "Your branch is up to date with 'origin/main'.\n",
      "Updating 4258465..547c9b3\n",
      "Fast-forward\n",
      " .DS_Store                             | Bin 0 -> 8196 bytes\n",
      " .gitignore                            |   2 ++\n",
      " commands.ipynb                        |  18 ++++++++++++++++++\n",
      " data/.DS_Store                        | Bin 0 -> 6148 bytes\n",
      " data/{raw-data.csv => input-data.csv} |   0\n",
      " docs/documentation.md                 |   1 -\n",
      " gitignore                             |   2 ++\n",
      " reports/.DS_Store                     | Bin 0 -> 6148 bytes\n",
      " reports/file1.txt                     |   0\n",
      " reports/file2.txt                     |   0\n",
      " reports/file3.txt                     |   0\n",
      " scripts/.DS_Store                     | Bin 0 -> 6148 bytes\n",
      " scripts/backup/01-setup.py            |   0\n",
      " scripts/backup/02-data-cleaning.py    |   0\n",
      " scripts/backup/03-data-modelling.py   |   0\n",
      " summary.md                            |   1 +\n",
      " 16 files changed, 23 insertions(+), 1 deletion(-)\n",
      " create mode 100644 .DS_Store\n",
      " create mode 100644 .gitignore\n",
      " create mode 100644 commands.ipynb\n",
      " create mode 100644 data/.DS_Store\n",
      " rename data/{raw-data.csv => input-data.csv} (100%)\n",
      " delete mode 100644 docs/documentation.md\n",
      " create mode 100644 gitignore\n",
      " create mode 100644 reports/.DS_Store\n",
      " create mode 100644 reports/file1.txt\n",
      " create mode 100644 reports/file2.txt\n",
      " create mode 100644 reports/file3.txt\n",
      " create mode 100644 scripts/.DS_Store\n",
      " create mode 100644 scripts/backup/01-setup.py\n",
      " create mode 100644 scripts/backup/02-data-cleaning.py\n",
      " create mode 100644 scripts/backup/03-data-modelling.py\n",
      " create mode 100644 summary.md\n"
     ]
    }
   ],
   "source": [
    "%%bash\n",
    "git checkout main\n",
    "git merge feature-update"
   ]
  },
  {
   "cell_type": "code",
   "execution_count": null,
   "metadata": {},
   "outputs": [
    {
     "name": "stderr",
     "output_type": "stream",
     "text": [
      "To https://github.com/romeouni/qtm350-quiz01\n",
      "   4258465..547c9b3  main -> main\n"
     ]
    }
   ],
   "source": [
    "%%bash\n",
    "git push"
   ]
  },
  {
   "cell_type": "code",
   "execution_count": null,
   "metadata": {},
   "outputs": [],
   "source": [
    "##saved this file and added with git add, git commit and git push"
   ]
  },
  {
   "cell_type": "code",
   "execution_count": null,
   "metadata": {},
   "outputs": [],
   "source": [
    "##Bonus 1\n",
    "# I went to the original repository (https://github.com/danilofreire/qtm350-quiz01), went to the pull request tab and created a pull request using the orignal main branch as the base and my main as the head."
   ]
  },
  {
   "cell_type": "code",
   "execution_count": 49,
   "metadata": {},
   "outputs": [
    {
     "name": "stdout",
     "output_type": "stream",
     "text": [
      "commit 1cdbd4bcf6c56482777bff3b7c70aa157f5d194f\n",
      "Author: romeouni <rahul.ulman@gmail.com>\n",
      "Date:   Wed Feb 12 16:43:42 2025 -0500\n",
      "\n",
      "    bonus 1, started bonus 2\n",
      "\n",
      "commit f7715f15e29b94ba3e431c93fabc37919d0811ca\n",
      "Author: romeouni <rahul.ulman@gmail.com>\n",
      "Date:   Wed Feb 12 16:36:02 2025 -0500\n",
      "\n",
      "    update commands file\n",
      "\n",
      "commit 547c9b3a8fb8a039b7dddb071a0e7b4698192fac\n",
      "Author: romeouni <rahul.ulman@gmail.com>\n",
      "Date:   Wed Feb 12 16:25:03 2025 -0500\n",
      "\n",
      "    Add .gitignore file\n",
      "\n",
      "commit 50ebcb76ffe2dcb7b4f51360a991c7956ac10e07\n",
      "Author: romeouni <rahul.ulman@gmail.com>\n",
      "Date:   Wed Feb 12 16:18:19 2025 -0500\n",
      "\n",
      "    Update project files\n",
      "\n",
      "commit 222337aeca1e07ebf84d3b540aaef7635509dc2f\n",
      "Author: romeouni <rahul.ulman@gmail.com>\n",
      "Date:   Wed Feb 12 16:10:00 2025 -0500\n",
      "\n",
      "    Add reports directory\n",
      "\n",
      "commit 4258465f905c91b262f8891fc3eda1ad7f30041f\n",
      "Author: Danilo Freire <danilofreire@gmail.com>\n",
      "Date:   Tue Feb 11 19:16:30 2025 -0500\n",
      "\n",
      "    first commit\n"
     ]
    }
   ],
   "source": [
    "%%bash\n",
    "##Bonus 2\n",
    "\n",
    "#check commit numbers from the log\n",
    "\n",
    "git log"
   ]
  },
  {
   "cell_type": "code",
   "execution_count": 48,
   "metadata": {},
   "outputs": [
    {
     "name": "stderr",
     "output_type": "stream",
     "text": [
      "error: cannot rebase: You have unstaged changes.\n",
      "error: Please commit or stash them.\n"
     ]
    },
    {
     "ename": "CalledProcessError",
     "evalue": "Command 'b'git rebase -i f7715f15e29b94ba3e431c93fabc37919d0811ca\\n'' returned non-zero exit status 1.",
     "output_type": "error",
     "traceback": [
      "\u001b[0;31m---------------------------------------------------------------------------\u001b[0m",
      "\u001b[0;31mCalledProcessError\u001b[0m                        Traceback (most recent call last)",
      "Cell \u001b[0;32mIn[48], line 1\u001b[0m\n\u001b[0;32m----> 1\u001b[0m \u001b[43mget_ipython\u001b[49m\u001b[43m(\u001b[49m\u001b[43m)\u001b[49m\u001b[38;5;241;43m.\u001b[39;49m\u001b[43mrun_cell_magic\u001b[49m\u001b[43m(\u001b[49m\u001b[38;5;124;43m'\u001b[39;49m\u001b[38;5;124;43mbash\u001b[39;49m\u001b[38;5;124;43m'\u001b[39;49m\u001b[43m,\u001b[49m\u001b[43m \u001b[49m\u001b[38;5;124;43m'\u001b[39;49m\u001b[38;5;124;43m'\u001b[39;49m\u001b[43m,\u001b[49m\u001b[43m \u001b[49m\u001b[38;5;124;43m'\u001b[39;49m\u001b[38;5;124;43mgit rebase -i f7715f15e29b94ba3e431c93fabc37919d0811ca\u001b[39;49m\u001b[38;5;130;43;01m\\n\u001b[39;49;00m\u001b[38;5;124;43m'\u001b[39;49m\u001b[43m)\u001b[49m\n",
      "File \u001b[0;32m~/anaconda3/lib/python3.10/site-packages/IPython/core/interactiveshell.py:2430\u001b[0m, in \u001b[0;36mInteractiveShell.run_cell_magic\u001b[0;34m(self, magic_name, line, cell)\u001b[0m\n\u001b[1;32m   2428\u001b[0m \u001b[38;5;28;01mwith\u001b[39;00m \u001b[38;5;28mself\u001b[39m\u001b[38;5;241m.\u001b[39mbuiltin_trap:\n\u001b[1;32m   2429\u001b[0m     args \u001b[38;5;241m=\u001b[39m (magic_arg_s, cell)\n\u001b[0;32m-> 2430\u001b[0m     result \u001b[38;5;241m=\u001b[39m \u001b[43mfn\u001b[49m\u001b[43m(\u001b[49m\u001b[38;5;241;43m*\u001b[39;49m\u001b[43margs\u001b[49m\u001b[43m,\u001b[49m\u001b[43m \u001b[49m\u001b[38;5;241;43m*\u001b[39;49m\u001b[38;5;241;43m*\u001b[39;49m\u001b[43mkwargs\u001b[49m\u001b[43m)\u001b[49m\n\u001b[1;32m   2432\u001b[0m \u001b[38;5;66;03m# The code below prevents the output from being displayed\u001b[39;00m\n\u001b[1;32m   2433\u001b[0m \u001b[38;5;66;03m# when using magics with decodator @output_can_be_silenced\u001b[39;00m\n\u001b[1;32m   2434\u001b[0m \u001b[38;5;66;03m# when the last Python token in the expression is a ';'.\u001b[39;00m\n\u001b[1;32m   2435\u001b[0m \u001b[38;5;28;01mif\u001b[39;00m \u001b[38;5;28mgetattr\u001b[39m(fn, magic\u001b[38;5;241m.\u001b[39mMAGIC_OUTPUT_CAN_BE_SILENCED, \u001b[38;5;28;01mFalse\u001b[39;00m):\n",
      "File \u001b[0;32m~/anaconda3/lib/python3.10/site-packages/IPython/core/magics/script.py:153\u001b[0m, in \u001b[0;36mScriptMagics._make_script_magic.<locals>.named_script_magic\u001b[0;34m(line, cell)\u001b[0m\n\u001b[1;32m    151\u001b[0m \u001b[38;5;28;01melse\u001b[39;00m:\n\u001b[1;32m    152\u001b[0m     line \u001b[38;5;241m=\u001b[39m script\n\u001b[0;32m--> 153\u001b[0m \u001b[38;5;28;01mreturn\u001b[39;00m \u001b[38;5;28;43mself\u001b[39;49m\u001b[38;5;241;43m.\u001b[39;49m\u001b[43mshebang\u001b[49m\u001b[43m(\u001b[49m\u001b[43mline\u001b[49m\u001b[43m,\u001b[49m\u001b[43m \u001b[49m\u001b[43mcell\u001b[49m\u001b[43m)\u001b[49m\n",
      "File \u001b[0;32m~/anaconda3/lib/python3.10/site-packages/IPython/core/magics/script.py:305\u001b[0m, in \u001b[0;36mScriptMagics.shebang\u001b[0;34m(self, line, cell)\u001b[0m\n\u001b[1;32m    300\u001b[0m \u001b[38;5;28;01mif\u001b[39;00m args\u001b[38;5;241m.\u001b[39mraise_error \u001b[38;5;129;01mand\u001b[39;00m p\u001b[38;5;241m.\u001b[39mreturncode \u001b[38;5;241m!=\u001b[39m \u001b[38;5;241m0\u001b[39m:\n\u001b[1;32m    301\u001b[0m     \u001b[38;5;66;03m# If we get here and p.returncode is still None, we must have\u001b[39;00m\n\u001b[1;32m    302\u001b[0m     \u001b[38;5;66;03m# killed it but not yet seen its return code. We don't wait for it,\u001b[39;00m\n\u001b[1;32m    303\u001b[0m     \u001b[38;5;66;03m# in case it's stuck in uninterruptible sleep. -9 = SIGKILL\u001b[39;00m\n\u001b[1;32m    304\u001b[0m     rc \u001b[38;5;241m=\u001b[39m p\u001b[38;5;241m.\u001b[39mreturncode \u001b[38;5;129;01mor\u001b[39;00m \u001b[38;5;241m-\u001b[39m\u001b[38;5;241m9\u001b[39m\n\u001b[0;32m--> 305\u001b[0m     \u001b[38;5;28;01mraise\u001b[39;00m CalledProcessError(rc, cell)\n",
      "\u001b[0;31mCalledProcessError\u001b[0m: Command 'b'git rebase -i f7715f15e29b94ba3e431c93fabc37919d0811ca\\n'' returned non-zero exit status 1."
     ]
    }
   ],
   "source": [
    "##Bonus 2 commands\n",
    "## git rebase --interactive HEAD~2\n",
    "## change command for most recent commit from \"pick\" to \"squash\"\n",
    "## exited vi editor with \":x\" command and same for subsequent editor."
   ]
  }
 ],
 "metadata": {
  "kernelspec": {
   "display_name": "base",
   "language": "python",
   "name": "python3"
  },
  "language_info": {
   "codemirror_mode": {
    "name": "ipython",
    "version": 3
   },
   "file_extension": ".py",
   "mimetype": "text/x-python",
   "name": "python",
   "nbconvert_exporter": "python",
   "pygments_lexer": "ipython3",
   "version": "3.10.9"
  }
 },
 "nbformat": 4,
 "nbformat_minor": 2
}
